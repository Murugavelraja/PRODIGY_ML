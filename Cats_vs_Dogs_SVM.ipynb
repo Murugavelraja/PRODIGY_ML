{
  "metadata": {
    "kernelspec": {
      "name": "python3",
      "display_name": "Python 3",
      "language": "python"
    },
    "language_info": {
      "name": "python",
      "version": "3.10.13",
      "mimetype": "text/x-python",
      "codemirror_mode": {
        "name": "ipython",
        "version": 3
      },
      "pygments_lexer": "ipython3",
      "nbconvert_exporter": "python",
      "file_extension": ".py"
    },
    "kaggle": {
      "accelerator": "nvidiaTeslaT4",
      "dataSources": [
        {
          "sourceId": 9058,
          "sourceType": "datasetVersion",
          "datasetId": 6156
        }
      ],
      "isInternetEnabled": true,
      "language": "python",
      "sourceType": "notebook",
      "isGpuEnabled": true
    },
    "colab": {
      "provenance": [],
      "include_colab_link": true
    }
  },
  "nbformat_minor": 0,
  "nbformat": 4,
  "cells": [
    {
      "cell_type": "markdown",
      "metadata": {
        "id": "view-in-github",
        "colab_type": "text"
      },
      "source": [
        "<a href=\"https://colab.research.google.com/github/Murugavelraja/PRODIGY_ML/blob/main/Cats_vs_Dogs_SVM.ipynb\" target=\"_parent\"><img src=\"https://colab.research.google.com/assets/colab-badge.svg\" alt=\"Open In Colab\"/></a>"
      ]
    },
    {
      "cell_type": "markdown",
      "source": [
        "# **Cat vs Dog using SVM**"
      ],
      "metadata": {
        "id": "zlINJRz6mNZ3"
      }
    },
    {
      "source": [
        "import kagglehub\n",
        "biaiscience_dogs_vs_cats_path = kagglehub.dataset_download('biaiscience/dogs-vs-cats')\n",
        "\n",
        "print('Data source import complete.')\n"
      ],
      "metadata": {
        "id": "HixeAyPHxJqh",
        "colab": {
          "base_uri": "https://localhost:8080/"
        },
        "outputId": "679d2d3b-2405-4067-a697-d54eec54960b"
      },
      "cell_type": "code",
      "outputs": [
        {
          "output_type": "stream",
          "name": "stdout",
          "text": [
            "Downloading from https://www.kaggle.com/api/v1/datasets/download/biaiscience/dogs-vs-cats?dataset_version_number=1...\n"
          ]
        },
        {
          "output_type": "stream",
          "name": "stderr",
          "text": [
            "100%|██████████| 817M/817M [00:18<00:00, 47.0MB/s]"
          ]
        },
        {
          "output_type": "stream",
          "name": "stdout",
          "text": [
            "Extracting files...\n"
          ]
        },
        {
          "output_type": "stream",
          "name": "stderr",
          "text": [
            "\n"
          ]
        }
      ],
      "execution_count": null
    },
    {
      "cell_type": "markdown",
      "source": [
        "<a id='step11'></a>\n",
        "# <span style=\"background-color:#0a2342;background-size: cover;font-family:tahoma;font-size:100%;text-align:left;border-radius:5px 5px 5px 5px; padding:10px; border:solid 2px #09375b\"><span style=\"color:#79a9d1\"><b>Step 1.1 | <b></span><span style=\"color:white\">Import libraries</span></span>"
      ],
      "metadata": {
        "id": "RP57AONOxJqr"
      }
    },
    {
      "cell_type": "code",
      "source": [
        "pip install silence_tensorflow"
      ],
      "metadata": {
        "execution": {
          "iopub.status.busy": "2024-01-31T17:13:40.065011Z",
          "iopub.execute_input": "2024-01-31T17:13:40.066055Z",
          "iopub.status.idle": "2024-01-31T17:14:02.315569Z",
          "shell.execute_reply.started": "2024-01-31T17:13:40.066017Z",
          "shell.execute_reply": "2024-01-31T17:14:02.314317Z"
        },
        "trusted": true,
        "id": "Bq97LPzpxJqs"
      },
      "execution_count": null,
      "outputs": []
    },
    {
      "cell_type": "code",
      "source": [
        "# Call a funtion from silence_tensorflow librariy to silent tensorflow warnings\n",
        "\n",
        "from silence_tensorflow import silence_tensorflow\n",
        "silence_tensorflow()"
      ],
      "metadata": {
        "execution": {
          "iopub.status.busy": "2024-01-31T17:14:02.317898Z",
          "iopub.execute_input": "2024-01-31T17:14:02.318211Z",
          "iopub.status.idle": "2024-01-31T17:14:22.89398Z",
          "shell.execute_reply.started": "2024-01-31T17:14:02.318182Z",
          "shell.execute_reply": "2024-01-31T17:14:22.892957Z"
        },
        "trusted": true,
        "id": "h_MpGeHuxJqs"
      },
      "execution_count": null,
      "outputs": []
    },
    {
      "cell_type": "code",
      "source": [
        "import os\n",
        "import re\n",
        "import cv2\n",
        "import random\n",
        "import warnings\n",
        "import numpy as np\n",
        "import pandas as pd\n",
        "import seaborn as sns\n",
        "from termcolor import colored\n",
        "import matplotlib.pyplot as plt\n",
        "from sklearn.model_selection import train_test_split\n",
        "from tensorflow.keras.preprocessing.image import ImageDataGenerator\n",
        "from tensorflow.keras.applications.vgg19 import preprocess_input\n",
        "from tensorflow.keras.applications import VGG19\n",
        "from tensorflow.keras import models, layers, optimizers\n",
        "from tensorflow.keras.callbacks import ModelCheckpoint, EarlyStopping\n",
        "\n",
        "\n",
        "\n",
        "print(colored('All libraries imported succesfully', 'green', attrs=[\"bold\"]))"
      ],
      "metadata": {
        "execution": {
          "iopub.status.busy": "2024-01-31T17:14:22.895297Z",
          "iopub.execute_input": "2024-01-31T17:14:22.896195Z",
          "iopub.status.idle": "2024-01-31T17:14:24.511589Z",
          "shell.execute_reply.started": "2024-01-31T17:14:22.896156Z",
          "shell.execute_reply": "2024-01-31T17:14:24.510578Z"
        },
        "trusted": true,
        "id": "ZTuTh335xJqt"
      },
      "execution_count": null,
      "outputs": []
    },
    {
      "cell_type": "markdown",
      "source": [
        "<a id='step12'></a>\n",
        "# <span style=\"background-color:#0a2342;background-size: cover;font-family:tahoma;font-size:100%;text-align:left;border-radius:5px 5px 5px 5px; padding:10px; border:solid 2px #09375b\"><span style=\"color:#79a9d1\"><b>Step 1.1 | <b></span><span style=\"color:white\">Liraries Configuration</span></span>"
      ],
      "metadata": {
        "id": "gGLgqP20xJqt"
      }
    },
    {
      "cell_type": "code",
      "source": [
        "# Ignore warnings\n",
        "warnings.filterwarnings('ignore')\n",
        "sns.set_style(\"darkgrid\")\n",
        "print(colored('All libraries configed succesfully', 'green', attrs=['bold']))"
      ],
      "metadata": {
        "execution": {
          "iopub.status.busy": "2024-01-31T17:14:24.513828Z",
          "iopub.execute_input": "2024-01-31T17:14:24.514651Z",
          "iopub.status.idle": "2024-01-31T17:14:24.520799Z",
          "shell.execute_reply.started": "2024-01-31T17:14:24.514619Z",
          "shell.execute_reply": "2024-01-31T17:14:24.519626Z"
        },
        "trusted": true,
        "id": "fqq4OQGpxJqu"
      },
      "execution_count": null,
      "outputs": []
    },
    {
      "cell_type": "markdown",
      "source": [
        "<a id='step21'></a>\n",
        "# <span style=\"background-color:#0a2342;background-size: cover;font-family:tahoma;font-size:100%;text-align:left;border-radius:5px 5px 5px 5px; padding:10px; border:solid 2px #09375b\"><span style=\"color:#79a9d1\"><b>Step 2.1 | <b></span><span style=\"color:white\">Importing Data</span></span>"
      ],
      "metadata": {
        "id": "I-0WDqkBxJqv"
      }
    },
    {
      "cell_type": "code",
      "source": [
        "# Add loaction of train folder in data\n",
        "\n",
        "train_folder = '/kaggle/input/dogs-vs-cats/train/train'"
      ],
      "metadata": {
        "execution": {
          "iopub.status.busy": "2024-01-31T17:14:24.521988Z",
          "iopub.execute_input": "2024-01-31T17:14:24.522268Z",
          "iopub.status.idle": "2024-01-31T17:14:24.537043Z",
          "shell.execute_reply.started": "2024-01-31T17:14:24.522243Z",
          "shell.execute_reply": "2024-01-31T17:14:24.536067Z"
        },
        "trusted": true,
        "id": "ZFEtGd_mxJqv"
      },
      "execution_count": null,
      "outputs": []
    },
    {
      "cell_type": "markdown",
      "source": [
        "<a id='step22'></a>\n",
        "# <span style=\"background-color:#0a2342;background-size: cover;font-family:tahoma;font-size:100%;text-align:left;border-radius:5px 5px 5px 5px; padding:10px; border:solid 2px #09375b\"><span style=\"color:#79a9d1\"><b>Step 2.2 | <b></span><span style=\"color:white\">Count data and classes</span></span>"
      ],
      "metadata": {
        "id": "p7elpdsQxJqv"
      }
    },
    {
      "cell_type": "code",
      "source": [
        "# Count our data samples\n",
        "\n",
        "total_count = len(os.listdir(train_folder))\n",
        "print(colored(f'Number of samples in train folder : {total_count}', 'blue', attrs=['bold']))"
      ],
      "metadata": {
        "execution": {
          "iopub.status.busy": "2024-01-31T17:14:24.538547Z",
          "iopub.execute_input": "2024-01-31T17:14:24.539191Z",
          "iopub.status.idle": "2024-01-31T17:14:25.228391Z",
          "shell.execute_reply.started": "2024-01-31T17:14:24.539158Z",
          "shell.execute_reply": "2024-01-31T17:14:25.227447Z"
        },
        "trusted": true,
        "id": "zmg0K188xJqv"
      },
      "execution_count": null,
      "outputs": []
    },
    {
      "cell_type": "code",
      "source": [
        "# count number of cats and dogs\n",
        "\n",
        "cat_count, dog_count = 0, 0\n",
        "for file_name in os.listdir(train_folder) :\n",
        "    cat = re.findall(\"\\Acat\", file_name)\n",
        "    dog = re.findall(\"\\Adog\", file_name)\n",
        "    if cat :\n",
        "        cat_count+=1\n",
        "    if dog :\n",
        "        dog_count+=1\n",
        "print(colored(f'Number of cats : {cat_count}', 'blue', attrs=['bold']))\n",
        "print(colored(f'Number of dogs : {dog_count}', 'blue', attrs=['bold']))\n",
        "total_count = [cat_count, dog_count]"
      ],
      "metadata": {
        "execution": {
          "iopub.status.busy": "2024-01-31T17:14:25.229609Z",
          "iopub.execute_input": "2024-01-31T17:14:25.229919Z",
          "iopub.status.idle": "2024-01-31T17:14:25.329737Z",
          "shell.execute_reply.started": "2024-01-31T17:14:25.229894Z",
          "shell.execute_reply": "2024-01-31T17:14:25.328774Z"
        },
        "trusted": true,
        "id": "rZFuP8uuxJqw"
      },
      "execution_count": null,
      "outputs": []
    },
    {
      "cell_type": "code",
      "source": [
        "# presentation of number of cats and dogs\n",
        "\n",
        "plt.figure(figsize=(15, 4))\n",
        "ax = sns.barplot(x=total_count, y=['Cat', 'Dog'], orient='h', color='navy')\n",
        "ax.set_xticks(np.arange(0, 14500, 2000))\n",
        "ax.set_xlabel('Number of Images')\n",
        "ax.set_ylabel('Classes')\n",
        "ax.set_title('Number of samples for each class', fontsize=20)\n",
        "for i, p in enumerate(ax.patches) :\n",
        "    ax.text(p.get_width(), p.get_y() + p.get_height() / 2.,\n",
        "            '{}'.format(total_count[i]),\n",
        "             va=\"center\", fontsize=15)"
      ],
      "metadata": {
        "execution": {
          "iopub.status.busy": "2024-01-31T17:14:25.331016Z",
          "iopub.execute_input": "2024-01-31T17:14:25.331326Z",
          "iopub.status.idle": "2024-01-31T17:14:25.724169Z",
          "shell.execute_reply.started": "2024-01-31T17:14:25.3313Z",
          "shell.execute_reply": "2024-01-31T17:14:25.723139Z"
        },
        "trusted": true,
        "id": "3QQTTCN7xJqw"
      },
      "execution_count": null,
      "outputs": []
    },
    {
      "cell_type": "markdown",
      "source": [
        "<a id='step23'></a>\n",
        "# <span style=\"background-color:#0a2342;background-size: cover;font-family:tahoma;font-size:100%;text-align:left;border-radius:5px 5px 5px 5px; padding:10px; border:solid 2px #09375b\"><span style=\"color:#79a9d1\"><b>Step 2.3 | <b></span><span style=\"color:white\">Conevert data to a DataFrame</span></span>"
      ],
      "metadata": {
        "id": "6hwQcShRxJqw"
      }
    },
    {
      "cell_type": "code",
      "source": [
        "temp_df = []\n",
        "for file_name in os.listdir(train_folder) :\n",
        "    if re.findall(\"\\Acat\", file_name) :\n",
        "        class_name = 'cat'\n",
        "    else :\n",
        "        class_name = 'dog'\n",
        "    temp_df.append((os.path.join(train_folder, file_name), class_name))\n",
        "df = pd.DataFrame(temp_df, columns=['file_path', 'label'])\n",
        "df"
      ],
      "metadata": {
        "execution": {
          "iopub.status.busy": "2024-01-31T17:14:25.725626Z",
          "iopub.execute_input": "2024-01-31T17:14:25.726007Z",
          "iopub.status.idle": "2024-01-31T17:14:25.87266Z",
          "shell.execute_reply.started": "2024-01-31T17:14:25.72597Z",
          "shell.execute_reply": "2024-01-31T17:14:25.871613Z"
        },
        "trusted": true,
        "id": "NnAfTYcixJqx"
      },
      "execution_count": null,
      "outputs": []
    },
    {
      "cell_type": "markdown",
      "source": [
        "<a id='step24'></a>\n",
        "# <span style=\"background-color:#0a2342;background-size: cover;font-family:tahoma;font-size:100%;text-align:left;border-radius:5px 5px 5px 5px; padding:10px; border:solid 2px #09375b\"><span style=\"color:#79a9d1\"><b>Step 2.4 | <b></span><span style=\"color:white\">Showing 6 image from each class</span></span>"
      ],
      "metadata": {
        "id": "XigQZbQhxJqx"
      }
    },
    {
      "cell_type": "code",
      "source": [
        "# Randomly show 6 images of each classes\n",
        "\n",
        "def plot_6_image(images, title) :\n",
        "    plt.figure(figsize=(15, 3))\n",
        "    for i, path in enumerate(images) :\n",
        "        plt.subplot(1, 6, i+1)\n",
        "        img = cv2.imread(path)\n",
        "        plt.imshow(img)\n",
        "        plt.axis('off')\n",
        "    plt.suptitle(title, fontsize=30, fontweight='bold')\n",
        "    plt.tight_layout()\n",
        "    plt.show()\n",
        "\n",
        "# Setting the random seed for reproducibility\n",
        "np.random.seed(42)\n",
        "\n",
        "for classes in ['cat', 'dog'] :\n",
        "    temp_df = df.file_path[df.label==classes]\n",
        "    random_image = np.random.choice(temp_df, 6)\n",
        "    plot_6_image(random_image, classes)"
      ],
      "metadata": {
        "execution": {
          "iopub.status.busy": "2024-01-31T17:14:25.877276Z",
          "iopub.execute_input": "2024-01-31T17:14:25.877669Z",
          "iopub.status.idle": "2024-01-31T17:14:28.124302Z",
          "shell.execute_reply.started": "2024-01-31T17:14:25.877644Z",
          "shell.execute_reply": "2024-01-31T17:14:28.123416Z"
        },
        "trusted": true,
        "id": "d0mH4VegxJqx"
      },
      "execution_count": null,
      "outputs": []
    },
    {
      "cell_type": "markdown",
      "source": [
        "<a id='step2.5'></a>\n",
        "# <span style=\"background-color:#0a2342;background-size: cover;font-family:tahoma;font-size:100%;text-align:left;border-radius:5px 5px 5px 5px; padding:10px; border:solid 2px #09375b\"><span style=\"color:#79a9d1\"><b>Step 2.5 | <b></span><span style=\"color:white\">Image Sizes</span></span>"
      ],
      "metadata": {
        "id": "liY9hMQPxJqx"
      }
    },
    {
      "cell_type": "code",
      "source": [
        "# Define a function to find out the width*height (dimentino) of images\n",
        "\n",
        "def image_size(train_folder) :\n",
        "    height = []\n",
        "    width = []\n",
        "\n",
        "    unique_dims = set()\n",
        "\n",
        "    for file_name in os.listdir(train_folder) :\n",
        "        img_path = os.path.join(train_folder, file_name)\n",
        "        img = cv2.imread(img_path)\n",
        "        if img is not None :\n",
        "            unique_dims.add((img.shape[0], img.shape[1]))\n",
        "            #\n",
        "            width.append(img.shape[0])\n",
        "            height.append(img.shape[1])\n",
        "\n",
        "    if len(unique_dims)==1 :\n",
        "        print(colored(f'All images have a unique shape of {list(unique_dims)[0]}', 'green', attrs=['bold']))\n",
        "    else :\n",
        "        print(colored(f'There are {len(unique_dims)} different image dimensions', 'red', attrs=['bold']))\n",
        "        print(colored(f'Min height is {min(height)}, Min width is {min(width)}', 'red'))\n",
        "        print(colored(f'Max height is {max(height)}, Max width is {max(width)}', 'red'))"
      ],
      "metadata": {
        "execution": {
          "iopub.status.busy": "2024-01-31T17:14:28.125398Z",
          "iopub.execute_input": "2024-01-31T17:14:28.125677Z",
          "iopub.status.idle": "2024-01-31T17:14:28.134726Z",
          "shell.execute_reply.started": "2024-01-31T17:14:28.125653Z",
          "shell.execute_reply": "2024-01-31T17:14:28.133541Z"
        },
        "trusted": true,
        "id": "fZXX67tkxJqx"
      },
      "execution_count": null,
      "outputs": []
    },
    {
      "cell_type": "code",
      "source": [
        "image_size(train_folder)"
      ],
      "metadata": {
        "execution": {
          "iopub.status.busy": "2024-01-31T17:14:28.13605Z",
          "iopub.execute_input": "2024-01-31T17:14:28.136363Z",
          "iopub.status.idle": "2024-01-31T17:20:57.371709Z",
          "shell.execute_reply.started": "2024-01-31T17:14:28.136337Z",
          "shell.execute_reply": "2024-01-31T17:20:57.370707Z"
        },
        "trusted": true,
        "id": "3gvrmJhTxJqy"
      },
      "execution_count": null,
      "outputs": []
    },
    {
      "cell_type": "markdown",
      "source": [
        "<a id='step2.6'></a>\n",
        "# <span style=\"background-color:#0a2342;background-size: cover;font-family:tahoma;font-size:100%;text-align:left;border-radius:5px 5px 5px 5px; padding:10px; border:solid 2px #09375b\"><span style=\"color:#79a9d1\"><b>Step 2.6 | <b></span><span style=\"color:white\">Split data to 'train', 'validate', 'test'</span></span>"
      ],
      "metadata": {
        "id": "ucB9LEurxJqy"
      }
    },
    {
      "cell_type": "code",
      "source": [
        "print(colored(f'df shape : {df.shape}', 'green', attrs=['bold']))"
      ],
      "metadata": {
        "execution": {
          "iopub.status.busy": "2024-01-31T17:20:57.373421Z",
          "iopub.execute_input": "2024-01-31T17:20:57.373723Z",
          "iopub.status.idle": "2024-01-31T17:20:57.378657Z",
          "shell.execute_reply.started": "2024-01-31T17:20:57.373698Z",
          "shell.execute_reply": "2024-01-31T17:20:57.377666Z"
        },
        "trusted": true,
        "id": "8BL2jgYzxJqy"
      },
      "execution_count": null,
      "outputs": []
    },
    {
      "cell_type": "code",
      "source": [
        "# Use train_test_split to split data to train, validation and test\n",
        "\n",
        "train_df_full, val_df = train_test_split(df, stratify=df['label'], test_size=0.2, random_state=42)\n",
        "train_df, test_df = train_test_split(train_df_full, stratify=train_df_full['label'], test_size=0.2, random_state=42)\n",
        "\n",
        "print(colored(f'Training shape : {train_df.shape}', 'green', attrs=['bold']))\n",
        "print(colored(f'Validation shape : {val_df.shape}', 'green', attrs=['bold']))\n",
        "print(colored(f'Test shape : {test_df.shape}', 'green', attrs=['bold']))"
      ],
      "metadata": {
        "execution": {
          "iopub.status.busy": "2024-01-31T17:20:57.379774Z",
          "iopub.execute_input": "2024-01-31T17:20:57.380045Z",
          "iopub.status.idle": "2024-01-31T17:20:57.453436Z",
          "shell.execute_reply.started": "2024-01-31T17:20:57.380021Z",
          "shell.execute_reply": "2024-01-31T17:20:57.452423Z"
        },
        "trusted": true,
        "id": "RVZSxxWuxJqy"
      },
      "execution_count": null,
      "outputs": []
    },
    {
      "cell_type": "markdown",
      "source": [
        "<a id='step27'></a>\n",
        "# <span style=\"background-color:#0a2342;background-size: cover;font-family:tahoma;font-size:100%;text-align:left;border-radius:5px 5px 5px 5px; padding:10px; border:solid 2px #09375b\"><span style=\"color:#79a9d1\"><b>Step 2.7 | <b></span><span style=\"color:white\">Add Noises</span></span>"
      ],
      "metadata": {
        "id": "Vrk3Olh8xJqy"
      }
    },
    {
      "cell_type": "code",
      "source": [
        "def add_gausian_noises(image, mean=0, std=0.05) :\n",
        "    ''' Add Gausian noise to an image '''\n",
        "    gaussian = np.random.normal(mean, std, image.shape)\n",
        "    noisy_image = image + gaussian\n",
        "    noisy_image = np.clip(noisy_image, 0, 255)\n",
        "    return noisy_image"
      ],
      "metadata": {
        "execution": {
          "iopub.status.busy": "2024-01-31T17:20:57.454694Z",
          "iopub.execute_input": "2024-01-31T17:20:57.455437Z",
          "iopub.status.idle": "2024-01-31T17:20:57.461501Z",
          "shell.execute_reply.started": "2024-01-31T17:20:57.4554Z",
          "shell.execute_reply": "2024-01-31T17:20:57.460429Z"
        },
        "trusted": true,
        "id": "uj_qRWNhxJqz"
      },
      "execution_count": null,
      "outputs": []
    },
    {
      "cell_type": "code",
      "source": [
        "def apply_blur (image, kernel_size=5) :\n",
        "    ''' Apply gaussian blur to an image '''\n",
        "    return cv2.GaussianBlur(image, (kernel_size, kernel_size), 0)"
      ],
      "metadata": {
        "execution": {
          "iopub.status.busy": "2024-01-31T17:20:57.462895Z",
          "iopub.execute_input": "2024-01-31T17:20:57.463239Z",
          "iopub.status.idle": "2024-01-31T17:20:57.47474Z",
          "shell.execute_reply.started": "2024-01-31T17:20:57.463207Z",
          "shell.execute_reply": "2024-01-31T17:20:57.473757Z"
        },
        "trusted": true,
        "id": "NxqFcxR0xJqz"
      },
      "execution_count": null,
      "outputs": []
    },
    {
      "cell_type": "code",
      "source": [
        "def downsample_upsample(image, scale_percent=50) :\n",
        "    ''' Downsample and upsample an image '''\n",
        "    width = int(image.shape[1] * scale_percent / 100)\n",
        "    height = int(image.shape[0] * scale_percent / 100)\n",
        "    dim = (width, height)\n",
        "    resized = cv2.resize(image, dim, interpolation=cv2.INTER_AREA)\n",
        "    return cv2.resize(resized, (image.shape[1], image.shape[0]), interpolation=cv2.INTER_LINEAR)"
      ],
      "metadata": {
        "execution": {
          "iopub.status.busy": "2024-01-31T17:20:57.476058Z",
          "iopub.execute_input": "2024-01-31T17:20:57.476884Z",
          "iopub.status.idle": "2024-01-31T17:20:57.488967Z",
          "shell.execute_reply.started": "2024-01-31T17:20:57.476855Z",
          "shell.execute_reply": "2024-01-31T17:20:57.488187Z"
        },
        "trusted": true,
        "id": "s3xBiQ8dxJqz"
      },
      "execution_count": null,
      "outputs": []
    },
    {
      "cell_type": "code",
      "source": [
        "# Add above noises to train data\n",
        "\n",
        "def augment_images(dataframe, base_dir):\n",
        "    modified_data = []\n",
        "\n",
        "    for _, row in dataframe.iterrows():\n",
        "        img_path = row['file_path']\n",
        "        label = row['label']\n",
        "        img = cv2.imread(img_path, cv2.IMREAD_GRAYSCALE)\n",
        "\n",
        "        # Randomly apply one or more degradation methods\n",
        "        choices = ['noise', 'blur', 'downsample']\n",
        "        chosen_methods = random.sample(choices, k=random.randint(1, len(choices)))\n",
        "\n",
        "        if 'noise' in chosen_methods:\n",
        "            directory, filename = os.path.split(img_path)\n",
        "            new_img_path = os.path.join(directory, f\"noisy_{filename}\")\n",
        "            cv2.imwrite(new_img_path, img)\n",
        "            img = add_gausian_noises(img)\n",
        "            modified_data.append((new_img_path, label))\n",
        "        if 'blur' in chosen_methods:\n",
        "            directory, filename = os.path.split(img_path)\n",
        "            new_img_path = os.path.join(directory, f\"blur_{filename}\")\n",
        "            cv2.imwrite(new_img_path, img)\n",
        "            img = apply_blur(img)\n",
        "            modified_data.append((new_img_path, label))\n",
        "        if 'downsample' in chosen_methods:\n",
        "            directory, filename = os.path.split(img_path)\n",
        "            new_img_path = os.path.join(directory, f\"downup_{filename}\")\n",
        "            cv2.imwrite(new_img_path, img)\n",
        "            img = downsample_upsample(img)\n",
        "            modified_data.append((new_img_path, label))\n",
        "\n",
        "    modified_images_df = pd.DataFrame(modified_data, columns=['file_path', 'label'])\n",
        "\n",
        "    # Return the updated DataFrame with both original and modified images\n",
        "    return pd.concat([dataframe, modified_images_df], ignore_index=True)"
      ],
      "metadata": {
        "execution": {
          "iopub.status.busy": "2024-01-31T17:20:57.490097Z",
          "iopub.execute_input": "2024-01-31T17:20:57.490452Z",
          "iopub.status.idle": "2024-01-31T17:20:57.513876Z",
          "shell.execute_reply.started": "2024-01-31T17:20:57.49042Z",
          "shell.execute_reply": "2024-01-31T17:20:57.513116Z"
        },
        "trusted": true,
        "id": "x1-Q6xY-xJqz"
      },
      "execution_count": null,
      "outputs": []
    },
    {
      "cell_type": "code",
      "source": [
        "train_df = augment_images(train_df, train_folder)"
      ],
      "metadata": {
        "execution": {
          "iopub.status.busy": "2024-01-31T17:20:57.514973Z",
          "iopub.execute_input": "2024-01-31T17:20:57.515246Z",
          "iopub.status.idle": "2024-01-31T17:23:48.262562Z",
          "shell.execute_reply.started": "2024-01-31T17:20:57.515223Z",
          "shell.execute_reply": "2024-01-31T17:23:48.261551Z"
        },
        "trusted": true,
        "id": "XSWLaJVPxJq0"
      },
      "execution_count": null,
      "outputs": []
    },
    {
      "cell_type": "code",
      "source": [
        "print(colored(f'Training shape : {train_df.shape}', 'green', attrs=['bold']))\n",
        "print(colored(f'Validation shape : {val_df.shape}', 'green', attrs=['bold']))\n",
        "print(colored(f'Test shape : {test_df.shape}', 'green', attrs=['bold']))"
      ],
      "metadata": {
        "execution": {
          "iopub.status.busy": "2024-01-31T17:23:48.264061Z",
          "iopub.execute_input": "2024-01-31T17:23:48.264776Z",
          "iopub.status.idle": "2024-01-31T17:23:48.27098Z",
          "shell.execute_reply.started": "2024-01-31T17:23:48.264738Z",
          "shell.execute_reply": "2024-01-31T17:23:48.270041Z"
        },
        "trusted": true,
        "id": "cIynWS8QxJq0"
      },
      "execution_count": null,
      "outputs": []
    },
    {
      "cell_type": "code",
      "source": [
        "# Show 6 image of each classes after adding noises\n",
        "\n",
        "# Setting the random seed for reproducibility\n",
        "np.random.seed(42)\n",
        "print(colored('Images After augmentation :', 'green', attrs=['bold']))\n",
        "\n",
        "for classes in ['cat', 'dog'] :\n",
        "    temp_df = df.file_path[df.label==classes]\n",
        "    random_image = np.random.choice(temp_df, 6)\n",
        "    plot_6_image(random_image, classes)"
      ],
      "metadata": {
        "execution": {
          "iopub.status.busy": "2024-01-31T17:23:48.272305Z",
          "iopub.execute_input": "2024-01-31T17:23:48.2728Z",
          "iopub.status.idle": "2024-01-31T17:23:50.298428Z",
          "shell.execute_reply.started": "2024-01-31T17:23:48.272771Z",
          "shell.execute_reply": "2024-01-31T17:23:50.297529Z"
        },
        "trusted": true,
        "id": "9qCPZQtFxJq0"
      },
      "execution_count": null,
      "outputs": []
    },
    {
      "cell_type": "markdown",
      "source": [
        "<a id='step28'></a>\n",
        "# <span style=\"background-color:#0a2342;background-size: cover;font-family:tahoma;font-size:100%;text-align:left;border-radius:5px 5px 5px 5px; padding:10px; border:solid 2px #09375b\"><span style=\"color:#79a9d1\"><b>Step 2.8 | <b></span><span style=\"color:white\">Create data generator</span></span>"
      ],
      "metadata": {
        "id": "7tTTvmjDxJq0"
      }
    },
    {
      "cell_type": "code",
      "source": [
        "def create_data_generator(train_df, val_df, test_df, batch_size=32, image_dimentions=(150, 150)) :\n",
        "    train_datagen = ImageDataGenerator(\n",
        "        rescale=1.0/255,\n",
        "        rotation_range=40,\n",
        "        width_shift_range=0.2,\n",
        "        height_shift_range=0.2,\n",
        "        zoom_range=0.2,\n",
        "        horizontal_flip=True,\n",
        "    )\n",
        "\n",
        "    validation_datagen = ImageDataGenerator(\n",
        "        rescale=1.0/255,\n",
        "    )\n",
        "\n",
        "    test_datagen = ImageDataGenerator(\n",
        "        rescale=1.0/255\n",
        "    )\n",
        "\n",
        "\n",
        "    train_generator = train_datagen.flow_from_dataframe(\n",
        "        dataframe=train_df,\n",
        "        x_col='file_path',\n",
        "        y_col='label',\n",
        "        target_size=image_dimentions,\n",
        "        class_mode='binary',\n",
        "        batch_size=batch_size,\n",
        "        seed=42,\n",
        "        shuffle=True,\n",
        "    )\n",
        "\n",
        "    validation_generator = validation_datagen.flow_from_dataframe(\n",
        "        dataframe=val_df,\n",
        "        x_col='file_path',\n",
        "        y_col='label',\n",
        "        target_size=image_dimentions,\n",
        "        class_mode='binary',\n",
        "        batch_size=batch_size,\n",
        "        seed=42,\n",
        "        shuffle=False,\n",
        "    )\n",
        "\n",
        "    test_generator = test_datagen.flow_from_dataframe(\n",
        "        dataframe=test_df,\n",
        "        x_col='file_path',\n",
        "        y_col='label',\n",
        "        target_size=image_dimentions,\n",
        "        class_mode='binary',\n",
        "        batch_size=batch_size,\n",
        "        seed=42,\n",
        "        shuffle=False,\n",
        "    )\n",
        "\n",
        "    return train_generator, validation_generator, test_generator"
      ],
      "metadata": {
        "execution": {
          "iopub.status.busy": "2024-01-31T17:23:50.299498Z",
          "iopub.execute_input": "2024-01-31T17:23:50.299769Z",
          "iopub.status.idle": "2024-01-31T17:23:50.309596Z",
          "shell.execute_reply.started": "2024-01-31T17:23:50.299745Z",
          "shell.execute_reply": "2024-01-31T17:23:50.308623Z"
        },
        "trusted": true,
        "id": "6E8MljuGxJq0"
      },
      "execution_count": null,
      "outputs": []
    },
    {
      "cell_type": "code",
      "source": [
        "train_generator, val_generator, test_generator = create_data_generator(train_df, val_df, test_df)\n",
        "\n",
        "# Fetch a batch of images and labels\n",
        "batch_images, batch_labels = next(train_generator)\n",
        "\n",
        "# Check the shape of the first image in the batch\n",
        "print(\"Shape of the first image in the batch:\", batch_images[0].shape)"
      ],
      "metadata": {
        "execution": {
          "iopub.status.busy": "2024-01-31T17:23:50.310899Z",
          "iopub.execute_input": "2024-01-31T17:23:50.311182Z",
          "iopub.status.idle": "2024-01-31T17:24:19.944567Z",
          "shell.execute_reply.started": "2024-01-31T17:23:50.311159Z",
          "shell.execute_reply": "2024-01-31T17:24:19.943452Z"
        },
        "trusted": true,
        "id": "B2x2OAY9xJq8"
      },
      "execution_count": null,
      "outputs": []
    },
    {
      "cell_type": "markdown",
      "source": [
        "<a id='step31'></a>\n",
        "# <span style=\"background-color:#0a2342;background-size: cover;font-family:tahoma;font-size:100%;text-align:left;border-radius:5px 5px 5px 5px; padding:10px; border:solid 2px #09375b\"><span style=\"color:#79a9d1\"><b>Step 3.1 | <b></span><span style=\"color:white\">Add VGG19 Model</span></span>"
      ],
      "metadata": {
        "id": "FlPpwp-MxJq8"
      }
    },
    {
      "cell_type": "code",
      "source": [
        "conv_base = VGG19(\n",
        "    weights='imagenet',\n",
        "    include_top=False,\n",
        "    input_shape=(150, 150, 3)\n",
        ")"
      ],
      "metadata": {
        "execution": {
          "iopub.status.busy": "2024-01-31T17:24:19.945984Z",
          "iopub.execute_input": "2024-01-31T17:24:19.946307Z",
          "iopub.status.idle": "2024-01-31T17:24:22.235862Z",
          "shell.execute_reply.started": "2024-01-31T17:24:19.94628Z",
          "shell.execute_reply": "2024-01-31T17:24:22.234792Z"
        },
        "trusted": true,
        "id": "xc3dzzAQxJq8"
      },
      "execution_count": null,
      "outputs": []
    },
    {
      "cell_type": "code",
      "source": [
        "conv_base.summary()"
      ],
      "metadata": {
        "execution": {
          "iopub.status.busy": "2024-01-31T17:24:22.237167Z",
          "iopub.execute_input": "2024-01-31T17:24:22.237487Z",
          "iopub.status.idle": "2024-01-31T17:24:22.288748Z",
          "shell.execute_reply.started": "2024-01-31T17:24:22.237461Z",
          "shell.execute_reply": "2024-01-31T17:24:22.2878Z"
        },
        "trusted": true,
        "id": "9RGKhnQmxJq8"
      },
      "execution_count": null,
      "outputs": []
    },
    {
      "cell_type": "markdown",
      "source": [
        "<a id='step32'></a>\n",
        "# <span style=\"background-color:#0a2342;background-size: cover;font-family:tahoma;font-size:100%;text-align:left;border-radius:5px 5px 5px 5px; padding:10px; border:solid 2px #09375b\"><span style=\"color:#79a9d1\"><b>Step 3.2 | <b></span><span style=\"color:white\">Freeze VGG19 layers</span></span>"
      ],
      "metadata": {
        "id": "p6fB_REvxJq8"
      }
    },
    {
      "cell_type": "code",
      "source": [
        "for layer in conv_base.layers :\n",
        "    print(layer.name)"
      ],
      "metadata": {
        "execution": {
          "iopub.status.busy": "2024-01-31T17:24:22.289968Z",
          "iopub.execute_input": "2024-01-31T17:24:22.290349Z",
          "iopub.status.idle": "2024-01-31T17:24:22.2962Z",
          "shell.execute_reply.started": "2024-01-31T17:24:22.290317Z",
          "shell.execute_reply": "2024-01-31T17:24:22.295234Z"
        },
        "trusted": true,
        "id": "WnGvmq2bxJq8"
      },
      "execution_count": null,
      "outputs": []
    },
    {
      "cell_type": "code",
      "source": [
        "# Freeze all layers, except last layer\n",
        "# The goal is to train just last layer\n",
        "\n",
        "conv_base.trainable = True\n",
        "set_trainable = False\n",
        "\n",
        "for layer in conv_base.layers :\n",
        "    if layer.name == 'block5_conv1' :\n",
        "        set_trainable = True\n",
        "    if set_trainable :\n",
        "        layer.trainable = True\n",
        "    else :\n",
        "        layer.trainable = False"
      ],
      "metadata": {
        "execution": {
          "iopub.status.busy": "2024-01-31T17:24:22.297467Z",
          "iopub.execute_input": "2024-01-31T17:24:22.297825Z",
          "iopub.status.idle": "2024-01-31T17:24:22.310756Z",
          "shell.execute_reply.started": "2024-01-31T17:24:22.297795Z",
          "shell.execute_reply": "2024-01-31T17:24:22.309703Z"
        },
        "trusted": true,
        "id": "x2y4G2j7xJq9"
      },
      "execution_count": null,
      "outputs": []
    },
    {
      "cell_type": "markdown",
      "source": [
        "<a id='step33'></a>\n",
        "# <span style=\"background-color:#0a2342;background-size: cover;font-family:tahoma;font-size:100%;text-align:left;border-radius:5px 5px 5px 5px; padding:10px; border:solid 2px #09375b\"><span style=\"color:#79a9d1\"><b>Step 3.3 | <b></span><span style=\"color:white\">Create and Compile a Model</span></span>"
      ],
      "metadata": {
        "id": "2BNVLajkxJq9"
      }
    },
    {
      "cell_type": "code",
      "source": [
        "model = models.Sequential()\n",
        "model.add(conv_base)\n",
        "model.add(layers.Dropout(0.5))\n",
        "model.add(layers.Flatten())\n",
        "model.add(layers.Dense(512, activation='relu'))\n",
        "model.add(layers.Dense(1, activation='sigmoid'))"
      ],
      "metadata": {
        "execution": {
          "iopub.status.busy": "2024-01-31T17:24:22.316041Z",
          "iopub.execute_input": "2024-01-31T17:24:22.316394Z",
          "iopub.status.idle": "2024-01-31T17:24:22.447934Z",
          "shell.execute_reply.started": "2024-01-31T17:24:22.316347Z",
          "shell.execute_reply": "2024-01-31T17:24:22.447005Z"
        },
        "trusted": true,
        "id": "3Ngt2ZXFxJq9"
      },
      "execution_count": null,
      "outputs": []
    },
    {
      "cell_type": "code",
      "source": [
        "# Compile\n",
        "model.compile(optimizer=optimizers.RMSprop(learning_rate=1e-5),\n",
        "             loss='binary_crossentropy',\n",
        "             metrics=['acc'])"
      ],
      "metadata": {
        "execution": {
          "iopub.status.busy": "2024-01-31T17:24:22.449074Z",
          "iopub.execute_input": "2024-01-31T17:24:22.449411Z",
          "iopub.status.idle": "2024-01-31T17:24:22.473734Z",
          "shell.execute_reply.started": "2024-01-31T17:24:22.449354Z",
          "shell.execute_reply": "2024-01-31T17:24:22.47267Z"
        },
        "trusted": true,
        "id": "B2f9enS_xJq9"
      },
      "execution_count": null,
      "outputs": []
    },
    {
      "cell_type": "markdown",
      "source": [
        "<a id='step34'></a>\n",
        "# <span style=\"background-color:#0a2342;background-size: cover;font-family:tahoma;font-size:100%;text-align:left;border-radius:5px 5px 5px 5px; padding:10px; border:solid 2px #09375b\"><span style=\"color:#79a9d1\"><b>Step 3.4 | <b></span><span style=\"color:white\">Create CallBacks</span></span>"
      ],
      "metadata": {
        "id": "RMnExQPVxJq9"
      }
    },
    {
      "cell_type": "code",
      "source": [
        "# 1) Model CheckPoint\n",
        "checkpoint_cb = ModelCheckpoint('MyKerasModel.keras', save_best_only=True)\n",
        "\n",
        "# 1) Early Stop\n",
        "earlystop_cb = EarlyStopping(patience=10, restore_best_weights=True)"
      ],
      "metadata": {
        "execution": {
          "iopub.status.busy": "2024-01-31T17:24:22.475353Z",
          "iopub.execute_input": "2024-01-31T17:24:22.475798Z",
          "iopub.status.idle": "2024-01-31T17:24:22.481201Z",
          "shell.execute_reply.started": "2024-01-31T17:24:22.475761Z",
          "shell.execute_reply": "2024-01-31T17:24:22.48028Z"
        },
        "trusted": true,
        "id": "fMux0UmbxJq9"
      },
      "execution_count": null,
      "outputs": []
    },
    {
      "cell_type": "markdown",
      "source": [
        "<a id='step35'></a>\n",
        "# <span style=\"background-color:#0a2342;background-size: cover;font-family:tahoma;font-size:100%;text-align:left;border-radius:5px 5px 5px 5px; padding:10px; border:solid 2px #09375b\"><span style=\"color:#79a9d1\"><b>Step 3.5 | <b></span><span style=\"color:white\">Train Model</span></span>"
      ],
      "metadata": {
        "id": "EYhIcEPmxJq-"
      }
    },
    {
      "cell_type": "code",
      "source": [
        "history = model.fit(\n",
        "    train_generator,\n",
        "    steps_per_epoch=len(train_generator),\n",
        "    epochs=100,\n",
        "    validation_data=val_generator,\n",
        "    validation_steps=len(val_generator),\n",
        "    callbacks=[checkpoint_cb, earlystop_cb]\n",
        ")"
      ],
      "metadata": {
        "execution": {
          "iopub.status.busy": "2024-01-31T17:24:22.482861Z",
          "iopub.execute_input": "2024-01-31T17:24:22.483447Z"
        },
        "trusted": true,
        "id": "CJw5eTpsxJq-"
      },
      "execution_count": null,
      "outputs": []
    },
    {
      "cell_type": "code",
      "source": [
        "pd.DataFrame(history.history).plot(figsize=(9, 4), linewidth=2)\n",
        "plt.grid()\n",
        "plt.show()"
      ],
      "metadata": {
        "trusted": true,
        "id": "QC3wSo3FxJq-"
      },
      "execution_count": null,
      "outputs": []
    },
    {
      "cell_type": "markdown",
      "source": [
        "<a id='step37'></a>\n",
        "# <span style=\"background-color:#0a2342;background-size: cover;font-family:tahoma;font-size:100%;text-align:left;border-radius:5px 5px 5px 5px; padding:10px; border:solid 2px #09375b\"><span style=\"color:#79a9d1\"><b>Step 3.7 | <b></span><span style=\"color:white\">Model Evaluation</span></span>"
      ],
      "metadata": {
        "id": "5zPOuYPixJq-"
      }
    },
    {
      "cell_type": "code",
      "source": [
        "best_model = models.load_model('MyKerasModel.keras')"
      ],
      "metadata": {
        "trusted": true,
        "id": "udPltesPxJq-"
      },
      "execution_count": null,
      "outputs": []
    },
    {
      "cell_type": "markdown",
      "source": [
        "<a id='step37'></a>\n",
        "# <span style=\"background-color:#0a2342;background-size: cover;font-family:tahoma;font-size:100%;text-align:left;border-radius:5px 5px 5px 5px; padding:10px; border:solid 2px #09375b\"><span style=\"color:#79a9d1\"><b>Step 3.7 | <b></span><span style=\"color:white\">Recover best Model</span></span>"
      ],
      "metadata": {
        "id": "MOEWkwNuxJq-"
      }
    },
    {
      "cell_type": "code",
      "source": [
        "test_loss, test_acc = best_model.evaluate_generator(test_generator)\n",
        "\n",
        "print(colored(f'Test Loss : {test_loss}', 'green', attrs=['bold']))\n",
        "print(colored(f'Test Accuracy : {test_acc}', 'green', attrs=['bold']))"
      ],
      "metadata": {
        "trusted": true,
        "id": "oJjrBy8zxJq_"
      },
      "execution_count": null,
      "outputs": []
    }
  ]
}